{
 "cells": [
  {
   "cell_type": "code",
   "execution_count": 3,
   "metadata": {},
   "outputs": [
    {
     "name": "stdout",
     "output_type": "stream",
     "text": [
      "Enter a value in kilometers\n",
      "20\n",
      "converted value in miles is  12.42742\n"
     ]
    }
   ],
   "source": [
    "#Python program to convert kilometers to miles\n",
    "\n",
    "kilometers = float(input(\"Enter a value in kilometers\\n\"))\n",
    "\n",
    "miles = kilometers*0.621371\n",
    "\n",
    "print(\"converted value in miles is \", miles)"
   ]
  },
  {
   "cell_type": "code",
   "execution_count": null,
   "metadata": {},
   "outputs": [],
   "source": []
  },
  {
   "cell_type": "code",
   "execution_count": null,
   "metadata": {},
   "outputs": [],
   "source": []
  },
  {
   "cell_type": "code",
   "execution_count": 4,
   "metadata": {},
   "outputs": [
    {
     "name": "stdout",
     "output_type": "stream",
     "text": [
      "Enter a value in celsius\n",
      "32\n",
      "converted value in farenheit is  89.6\n"
     ]
    }
   ],
   "source": [
    "#Python program to convert Celsius to Fahrenheit\n",
    "\n",
    "celsius = float(input(\"Enter a value in celsius\\n\"))\n",
    "\n",
    "farenheit = ((celsius * 9)/5) + 32\n",
    "\n",
    "print(\"converted value in farenheit is \", farenheit)"
   ]
  },
  {
   "cell_type": "code",
   "execution_count": null,
   "metadata": {},
   "outputs": [],
   "source": []
  },
  {
   "cell_type": "code",
   "execution_count": null,
   "metadata": {},
   "outputs": [],
   "source": []
  },
  {
   "cell_type": "code",
   "execution_count": 8,
   "metadata": {},
   "outputs": [
    {
     "name": "stdout",
     "output_type": "stream",
     "text": [
      "Enter month\n",
      "06\n",
      "Enter year\n",
      "2021\n",
      "     June 2021\n",
      "Mo Tu We Th Fr Sa Su\n",
      "    1  2  3  4  5  6\n",
      " 7  8  9 10 11 12 13\n",
      "14 15 16 17 18 19 20\n",
      "21 22 23 24 25 26 27\n",
      "28 29 30\n",
      "\n"
     ]
    }
   ],
   "source": [
    "#Python program to display calendar\n",
    "\n",
    "#first import calendar module\n",
    "import calendar\n",
    "\n",
    "month = int(input(\"Enter month\\n\"))\n",
    "year = int(input(\"Enter year\\n\"))\n",
    "\n",
    "print(calendar.month(year,month))"
   ]
  },
  {
   "cell_type": "code",
   "execution_count": null,
   "metadata": {},
   "outputs": [],
   "source": []
  },
  {
   "cell_type": "code",
   "execution_count": null,
   "metadata": {},
   "outputs": [],
   "source": []
  },
  {
   "cell_type": "code",
   "execution_count": 11,
   "metadata": {},
   "outputs": [
    {
     "name": "stdout",
     "output_type": "stream",
     "text": [
      "Enter the value of a: \n",
      "2\n",
      "Enter the value of b: \n",
      "3\n",
      "Enter the value of c: \n",
      "6\n",
      "The solution are (-0.75+0.7806247497997998j) and (-0.75-0.7806247497997998j)\n"
     ]
    }
   ],
   "source": [
    "#Python program to solve quadratic equation\n",
    "\n",
    "a = float(input(\"Enter the value of a: \\n\"))\n",
    "b = float(input(\"Enter the value of b: \\n\"))\n",
    "c = float(input(\"Enter the value of c: \\n\"))\n",
    "\n",
    "d = (b**2 - 4*a*c)/ (2*a)\n",
    "\n",
    "result1 = (-b + d**0.5)/ (2*a)\n",
    "result2 = (-b - d**0.5)/ (2*a)\n",
    "                \n",
    "print('The solution are {0} and {1}'.format(result1,result2))"
   ]
  },
  {
   "cell_type": "code",
   "execution_count": null,
   "metadata": {},
   "outputs": [],
   "source": []
  },
  {
   "cell_type": "code",
   "execution_count": null,
   "metadata": {},
   "outputs": [],
   "source": []
  },
  {
   "cell_type": "code",
   "execution_count": 15,
   "metadata": {},
   "outputs": [
    {
     "name": "stdout",
     "output_type": "stream",
     "text": [
      "Before swapping: \n",
      "\n",
      "Value of a :  5  and b :  7\n",
      "After swapping: \n",
      "\n",
      "Value of a :  7  and b :  5\n"
     ]
    }
   ],
   "source": [
    "#Python program to swap two variables without temp variable\n",
    "\n",
    "a = 5\n",
    "b = 7\n",
    " \n",
    "print (\"Before swapping: \\n\")\n",
    "print(\"Value of a : \", a ,\" and b : \", b)\n",
    " \n",
    "a,b = b,a\n",
    " \n",
    "print (\"After swapping: \\n\")\n",
    "print(\"Value of a : \", a, \" and b : \", b)"
   ]
  },
  {
   "cell_type": "code",
   "execution_count": null,
   "metadata": {},
   "outputs": [],
   "source": []
  }
 ],
 "metadata": {
  "kernelspec": {
   "display_name": "Python 3",
   "language": "python",
   "name": "python3"
  },
  "language_info": {
   "codemirror_mode": {
    "name": "ipython",
    "version": 3
   },
   "file_extension": ".py",
   "mimetype": "text/x-python",
   "name": "python",
   "nbconvert_exporter": "python",
   "pygments_lexer": "ipython3",
   "version": "3.8.3"
  }
 },
 "nbformat": 4,
 "nbformat_minor": 4
}
