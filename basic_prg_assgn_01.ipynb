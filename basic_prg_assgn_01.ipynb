{
 "cells": [
  {
   "cell_type": "code",
   "execution_count": 5,
   "metadata": {},
   "outputs": [
    {
     "name": "stdout",
     "output_type": "stream",
     "text": [
      "Hello python\n"
     ]
    }
   ],
   "source": [
    "#Python program to print hello python\n",
    "\n",
    "print(\"Hello python\")"
   ]
  },
  {
   "cell_type": "code",
   "execution_count": null,
   "metadata": {},
   "outputs": [],
   "source": []
  },
  {
   "cell_type": "code",
   "execution_count": null,
   "metadata": {},
   "outputs": [],
   "source": []
  },
  {
   "cell_type": "code",
   "execution_count": 4,
   "metadata": {},
   "outputs": [
    {
     "name": "stdout",
     "output_type": "stream",
     "text": [
      "Enter first number\n",
      "8\n",
      "Enter second number\n",
      "4\n",
      "addition =  12\n",
      "Division =  2.0\n"
     ]
    }
   ],
   "source": [
    "#Python program to perform addition and division\n",
    "\n",
    "a = int(input(\"Enter first number\\n\"))\n",
    "b = int(input(\"Enter second number\\n\"))\n",
    "\n",
    "#Addition\n",
    "sum = a+b\n",
    "print(\"addition = \",sum)\n",
    "\n",
    "#Division\n",
    "div = a/b\n",
    "print(\"Division = \",div)\n"
   ]
  },
  {
   "cell_type": "code",
   "execution_count": null,
   "metadata": {},
   "outputs": [],
   "source": []
  },
  {
   "cell_type": "code",
   "execution_count": null,
   "metadata": {},
   "outputs": [],
   "source": []
  },
  {
   "cell_type": "code",
   "execution_count": 7,
   "metadata": {},
   "outputs": [
    {
     "name": "stdout",
     "output_type": "stream",
     "text": [
      "Enter value of base: \n",
      "2\n",
      "Enter value of height: \n",
      "10\n",
      "Area of triangle =  10.0\n"
     ]
    }
   ],
   "source": [
    "#Python prg to find area of triangle\n",
    "\n",
    "base = float(input(\"Enter value of base: \\n\"))\n",
    "height = float(input(\"Enter value of height: \\n\"))\n",
    "\n",
    "area = (base*height)/2\n",
    "\n",
    "print(\"Area of triangle = \",area)"
   ]
  },
  {
   "cell_type": "code",
   "execution_count": null,
   "metadata": {},
   "outputs": [],
   "source": []
  },
  {
   "cell_type": "code",
   "execution_count": null,
   "metadata": {},
   "outputs": [],
   "source": []
  },
  {
   "cell_type": "code",
   "execution_count": 11,
   "metadata": {},
   "outputs": [
    {
     "name": "stdout",
     "output_type": "stream",
     "text": [
      "Enter x\n",
      "5\n",
      "Enter y\n",
      "0\n",
      "The value of x after swapping: 0\n",
      "The value of y after swapping: 5\n"
     ]
    }
   ],
   "source": [
    "#Python prg to swap 2 variables\n",
    "\n",
    "x = int(input(\"Enter x\\n\"))\n",
    "y = int(input(\"Enter y\\n\"))\n",
    "\n",
    "# create a temporary variable and swap the values\n",
    "temp = x\n",
    "x = y\n",
    "y = temp\n",
    "\n",
    "print(\"The value of x after swapping:\" ,x)\n",
    "print(\"The value of y after swapping:\" ,y)\n"
   ]
  },
  {
   "cell_type": "code",
   "execution_count": null,
   "metadata": {},
   "outputs": [],
   "source": []
  },
  {
   "cell_type": "code",
   "execution_count": null,
   "metadata": {},
   "outputs": [],
   "source": []
  },
  {
   "cell_type": "code",
   "execution_count": 19,
   "metadata": {},
   "outputs": [
    {
     "name": "stdout",
     "output_type": "stream",
     "text": [
      "89\n"
     ]
    }
   ],
   "source": [
    "#Python program to generate a random nmber\n",
    "\n",
    "import random\n",
    "\n",
    "#consider a random number from 0 to 100\n",
    "\n",
    "print(random.randint(0,100))"
   ]
  },
  {
   "cell_type": "code",
   "execution_count": null,
   "metadata": {},
   "outputs": [],
   "source": []
  }
 ],
 "metadata": {
  "kernelspec": {
   "display_name": "Python 3",
   "language": "python",
   "name": "python3"
  },
  "language_info": {
   "codemirror_mode": {
    "name": "ipython",
    "version": 3
   },
   "file_extension": ".py",
   "mimetype": "text/x-python",
   "name": "python",
   "nbconvert_exporter": "python",
   "pygments_lexer": "ipython3",
   "version": "3.8.3"
  }
 },
 "nbformat": 4,
 "nbformat_minor": 4
}
